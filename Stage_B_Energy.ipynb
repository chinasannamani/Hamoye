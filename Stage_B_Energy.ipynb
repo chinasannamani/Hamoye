{
 "cells": [
  {
   "cell_type": "markdown",
   "id": "d94e6666",
   "metadata": {},
   "source": [
    "# Machine Learning: Regression - Predicting Energy Efficiency of Building"
   ]
  },
  {
   "cell_type": "markdown",
   "id": "9d682eed",
   "metadata": {},
   "source": [
    "### About the Dataset\n",
    "\n",
    "The dataset is the Appliances Energy Prediction data. The data set is at 10 min for about 4.5 months. The house temperature and humidity conditions were monitored with a ZigBee wireless sensor network. Each wireless node transmitted the temperature and humidity conditions around 3.3 min. Then, the wireless data was averaged for 10 minutes periods. The energy data was logged every 10 minutes with m-bus energy meters. Weather from the nearest airport weather station (Chievres Airport, Belgium) was downloaded from a public data set from Reliable Prognosis (rp5.ru), and merged together with the experimental data sets using the date and time column. Two random variables have been included in the data set for testing the regression models and to filter out non predictive attributes (parameters). The attribute information can be seen below.\n",
    "\n",
    "Attribute Information:\n",
    "\n",
    "Date, time year-month-day hour:minute:second\n",
    "\n",
    "Appliances, energy use in Wh \n",
    "\n",
    "lights, energy use of light fixtures in the house in Wh\n",
    "\n",
    "T1, Temperature in kitchen area, in Celsius\n",
    "\n",
    "RH_1, Humidity in kitchen area, in %\n",
    "\n",
    "T2, Temperature in living room area, in Celsius\n",
    "\n",
    "RH_2, Humidity in living room area, in %\n",
    "\n",
    "T3, Temperature in laundry room area\n",
    "\n",
    "RH_3, Humidity in laundry room area, in %\n",
    "\n",
    "T4, Temperature in office room, in Celsius\n",
    "\n",
    "RH_4, Humidity in office room, in %\n",
    "\n",
    "T5, Temperature in bathroom, in Celsius\n",
    "\n",
    "RH_5, Humidity in bathroom, in %\n",
    "\n",
    "T6, Temperature outside the building (north side), in Celsius\n",
    "\n",
    "RH_6, Humidity outside the building (north side), in %\n",
    "\n",
    "T7, Temperature in ironing room , in Celsius\n",
    "\n",
    "RH_7, Humidity in ironing room, in %\n",
    "\n",
    "T8, Temperature in teenager room 2, in Celsius\n",
    "\n",
    "RH_8, Humidity in teenager room 2, in %\n",
    "\n",
    "T9, Temperature in parents room, in Celsius\n",
    "\n",
    "RH_9, Humidity in parents room, in %\n",
    "\n",
    "To, Temperature outside (from Chievres weather station), in Celsius\n",
    "\n",
    "Pressure (from Chievres weather station), in mm Hg\n",
    "\n",
    "RH_out, Humidity outside (from Chievres weather station), in %\n",
    "\n",
    "Wind speed (from Chievres weather station), in m/s\n",
    "\n",
    "Visibility (from Chievres weather station), in km\n",
    "\n",
    "Tdewpoint (from Chievres weather station), Â°C\n",
    "\n",
    "rv1, Random variable 1, nondimensional\n",
    "\n",
    "rv2, Random variable 2, nondimensional"
   ]
  },
  {
   "cell_type": "code",
   "execution_count": 1,
   "id": "223c6ad0",
   "metadata": {},
   "outputs": [],
   "source": [
    "# Import the necessary python libraries\n",
    "import pandas as pd\n",
    "import numpy as np\n",
    "from sklearn.preprocessing import LabelEncoder, StandardScaler\n",
    "from sklearn.model_selection import train_test_split, GridSearchCV\n",
    "from sklearn.linear_model import LinearRegression, Ridge, Lasso\n",
    "from sklearn.metrics import mean_squared_error, r2_score, mean_absolute_error\n",
    "import warnings"
   ]
  },
  {
   "cell_type": "code",
   "execution_count": 2,
   "id": "ab2b82d6",
   "metadata": {},
   "outputs": [],
   "source": [
    "# To suppress all warnings\n",
    "warnings.filterwarnings(\"ignore\")"
   ]
  },
  {
   "cell_type": "code",
   "execution_count": 3,
   "id": "860fa08e",
   "metadata": {},
   "outputs": [],
   "source": [
    "data = pd.read_csv(\"energydata_complete.csv\")"
   ]
  },
  {
   "cell_type": "code",
   "execution_count": 4,
   "id": "192cb034",
   "metadata": {},
   "outputs": [
    {
     "data": {
      "text/html": [
       "<div>\n",
       "<style scoped>\n",
       "    .dataframe tbody tr th:only-of-type {\n",
       "        vertical-align: middle;\n",
       "    }\n",
       "\n",
       "    .dataframe tbody tr th {\n",
       "        vertical-align: top;\n",
       "    }\n",
       "\n",
       "    .dataframe thead th {\n",
       "        text-align: right;\n",
       "    }\n",
       "</style>\n",
       "<table border=\"1\" class=\"dataframe\">\n",
       "  <thead>\n",
       "    <tr style=\"text-align: right;\">\n",
       "      <th></th>\n",
       "      <th>date</th>\n",
       "      <th>Appliances</th>\n",
       "      <th>lights</th>\n",
       "      <th>T1</th>\n",
       "      <th>RH_1</th>\n",
       "      <th>T2</th>\n",
       "      <th>RH_2</th>\n",
       "      <th>T3</th>\n",
       "      <th>RH_3</th>\n",
       "      <th>T4</th>\n",
       "      <th>...</th>\n",
       "      <th>T9</th>\n",
       "      <th>RH_9</th>\n",
       "      <th>T_out</th>\n",
       "      <th>Press_mm_hg</th>\n",
       "      <th>RH_out</th>\n",
       "      <th>Windspeed</th>\n",
       "      <th>Visibility</th>\n",
       "      <th>Tdewpoint</th>\n",
       "      <th>rv1</th>\n",
       "      <th>rv2</th>\n",
       "    </tr>\n",
       "  </thead>\n",
       "  <tbody>\n",
       "    <tr>\n",
       "      <th>0</th>\n",
       "      <td>2016-01-11 17:00:00</td>\n",
       "      <td>60</td>\n",
       "      <td>30</td>\n",
       "      <td>19.89</td>\n",
       "      <td>47.596667</td>\n",
       "      <td>19.2</td>\n",
       "      <td>44.790000</td>\n",
       "      <td>19.79</td>\n",
       "      <td>44.730000</td>\n",
       "      <td>19.000000</td>\n",
       "      <td>...</td>\n",
       "      <td>17.033333</td>\n",
       "      <td>45.53</td>\n",
       "      <td>6.600000</td>\n",
       "      <td>733.5</td>\n",
       "      <td>92.0</td>\n",
       "      <td>7.000000</td>\n",
       "      <td>63.000000</td>\n",
       "      <td>5.3</td>\n",
       "      <td>13.275433</td>\n",
       "      <td>13.275433</td>\n",
       "    </tr>\n",
       "    <tr>\n",
       "      <th>1</th>\n",
       "      <td>2016-01-11 17:10:00</td>\n",
       "      <td>60</td>\n",
       "      <td>30</td>\n",
       "      <td>19.89</td>\n",
       "      <td>46.693333</td>\n",
       "      <td>19.2</td>\n",
       "      <td>44.722500</td>\n",
       "      <td>19.79</td>\n",
       "      <td>44.790000</td>\n",
       "      <td>19.000000</td>\n",
       "      <td>...</td>\n",
       "      <td>17.066667</td>\n",
       "      <td>45.56</td>\n",
       "      <td>6.483333</td>\n",
       "      <td>733.6</td>\n",
       "      <td>92.0</td>\n",
       "      <td>6.666667</td>\n",
       "      <td>59.166667</td>\n",
       "      <td>5.2</td>\n",
       "      <td>18.606195</td>\n",
       "      <td>18.606195</td>\n",
       "    </tr>\n",
       "    <tr>\n",
       "      <th>2</th>\n",
       "      <td>2016-01-11 17:20:00</td>\n",
       "      <td>50</td>\n",
       "      <td>30</td>\n",
       "      <td>19.89</td>\n",
       "      <td>46.300000</td>\n",
       "      <td>19.2</td>\n",
       "      <td>44.626667</td>\n",
       "      <td>19.79</td>\n",
       "      <td>44.933333</td>\n",
       "      <td>18.926667</td>\n",
       "      <td>...</td>\n",
       "      <td>17.000000</td>\n",
       "      <td>45.50</td>\n",
       "      <td>6.366667</td>\n",
       "      <td>733.7</td>\n",
       "      <td>92.0</td>\n",
       "      <td>6.333333</td>\n",
       "      <td>55.333333</td>\n",
       "      <td>5.1</td>\n",
       "      <td>28.642668</td>\n",
       "      <td>28.642668</td>\n",
       "    </tr>\n",
       "    <tr>\n",
       "      <th>3</th>\n",
       "      <td>2016-01-11 17:30:00</td>\n",
       "      <td>50</td>\n",
       "      <td>40</td>\n",
       "      <td>19.89</td>\n",
       "      <td>46.066667</td>\n",
       "      <td>19.2</td>\n",
       "      <td>44.590000</td>\n",
       "      <td>19.79</td>\n",
       "      <td>45.000000</td>\n",
       "      <td>18.890000</td>\n",
       "      <td>...</td>\n",
       "      <td>17.000000</td>\n",
       "      <td>45.40</td>\n",
       "      <td>6.250000</td>\n",
       "      <td>733.8</td>\n",
       "      <td>92.0</td>\n",
       "      <td>6.000000</td>\n",
       "      <td>51.500000</td>\n",
       "      <td>5.0</td>\n",
       "      <td>45.410389</td>\n",
       "      <td>45.410389</td>\n",
       "    </tr>\n",
       "    <tr>\n",
       "      <th>4</th>\n",
       "      <td>2016-01-11 17:40:00</td>\n",
       "      <td>60</td>\n",
       "      <td>40</td>\n",
       "      <td>19.89</td>\n",
       "      <td>46.333333</td>\n",
       "      <td>19.2</td>\n",
       "      <td>44.530000</td>\n",
       "      <td>19.79</td>\n",
       "      <td>45.000000</td>\n",
       "      <td>18.890000</td>\n",
       "      <td>...</td>\n",
       "      <td>17.000000</td>\n",
       "      <td>45.40</td>\n",
       "      <td>6.133333</td>\n",
       "      <td>733.9</td>\n",
       "      <td>92.0</td>\n",
       "      <td>5.666667</td>\n",
       "      <td>47.666667</td>\n",
       "      <td>4.9</td>\n",
       "      <td>10.084097</td>\n",
       "      <td>10.084097</td>\n",
       "    </tr>\n",
       "  </tbody>\n",
       "</table>\n",
       "<p>5 rows × 29 columns</p>\n",
       "</div>"
      ],
      "text/plain": [
       "                  date  Appliances  lights     T1       RH_1    T2       RH_2  \\\n",
       "0  2016-01-11 17:00:00          60      30  19.89  47.596667  19.2  44.790000   \n",
       "1  2016-01-11 17:10:00          60      30  19.89  46.693333  19.2  44.722500   \n",
       "2  2016-01-11 17:20:00          50      30  19.89  46.300000  19.2  44.626667   \n",
       "3  2016-01-11 17:30:00          50      40  19.89  46.066667  19.2  44.590000   \n",
       "4  2016-01-11 17:40:00          60      40  19.89  46.333333  19.2  44.530000   \n",
       "\n",
       "      T3       RH_3         T4  ...         T9   RH_9     T_out  Press_mm_hg  \\\n",
       "0  19.79  44.730000  19.000000  ...  17.033333  45.53  6.600000        733.5   \n",
       "1  19.79  44.790000  19.000000  ...  17.066667  45.56  6.483333        733.6   \n",
       "2  19.79  44.933333  18.926667  ...  17.000000  45.50  6.366667        733.7   \n",
       "3  19.79  45.000000  18.890000  ...  17.000000  45.40  6.250000        733.8   \n",
       "4  19.79  45.000000  18.890000  ...  17.000000  45.40  6.133333        733.9   \n",
       "\n",
       "   RH_out  Windspeed  Visibility  Tdewpoint        rv1        rv2  \n",
       "0    92.0   7.000000   63.000000        5.3  13.275433  13.275433  \n",
       "1    92.0   6.666667   59.166667        5.2  18.606195  18.606195  \n",
       "2    92.0   6.333333   55.333333        5.1  28.642668  28.642668  \n",
       "3    92.0   6.000000   51.500000        5.0  45.410389  45.410389  \n",
       "4    92.0   5.666667   47.666667        4.9  10.084097  10.084097  \n",
       "\n",
       "[5 rows x 29 columns]"
      ]
     },
     "execution_count": 4,
     "metadata": {},
     "output_type": "execute_result"
    }
   ],
   "source": [
    "data.head()"
   ]
  },
  {
   "cell_type": "code",
   "execution_count": 5,
   "id": "a8f229fc",
   "metadata": {},
   "outputs": [
    {
     "data": {
      "text/plain": [
       "(19735, 29)"
      ]
     },
     "execution_count": 5,
     "metadata": {},
     "output_type": "execute_result"
    }
   ],
   "source": [
    "data.shape"
   ]
  },
  {
   "cell_type": "code",
   "execution_count": 6,
   "id": "e1456c95",
   "metadata": {},
   "outputs": [
    {
     "name": "stdout",
     "output_type": "stream",
     "text": [
      "<class 'pandas.core.frame.DataFrame'>\n",
      "RangeIndex: 19735 entries, 0 to 19734\n",
      "Data columns (total 29 columns):\n",
      " #   Column       Non-Null Count  Dtype  \n",
      "---  ------       --------------  -----  \n",
      " 0   date         19735 non-null  object \n",
      " 1   Appliances   19735 non-null  int64  \n",
      " 2   lights       19735 non-null  int64  \n",
      " 3   T1           19735 non-null  float64\n",
      " 4   RH_1         19735 non-null  float64\n",
      " 5   T2           19735 non-null  float64\n",
      " 6   RH_2         19735 non-null  float64\n",
      " 7   T3           19735 non-null  float64\n",
      " 8   RH_3         19735 non-null  float64\n",
      " 9   T4           19735 non-null  float64\n",
      " 10  RH_4         19735 non-null  float64\n",
      " 11  T5           19735 non-null  float64\n",
      " 12  RH_5         19735 non-null  float64\n",
      " 13  T6           19735 non-null  float64\n",
      " 14  RH_6         19735 non-null  float64\n",
      " 15  T7           19735 non-null  float64\n",
      " 16  RH_7         19735 non-null  float64\n",
      " 17  T8           19735 non-null  float64\n",
      " 18  RH_8         19735 non-null  float64\n",
      " 19  T9           19735 non-null  float64\n",
      " 20  RH_9         19735 non-null  float64\n",
      " 21  T_out        19735 non-null  float64\n",
      " 22  Press_mm_hg  19735 non-null  float64\n",
      " 23  RH_out       19735 non-null  float64\n",
      " 24  Windspeed    19735 non-null  float64\n",
      " 25  Visibility   19735 non-null  float64\n",
      " 26  Tdewpoint    19735 non-null  float64\n",
      " 27  rv1          19735 non-null  float64\n",
      " 28  rv2          19735 non-null  float64\n",
      "dtypes: float64(26), int64(2), object(1)\n",
      "memory usage: 4.4+ MB\n"
     ]
    }
   ],
   "source": [
    "data.info()"
   ]
  },
  {
   "cell_type": "code",
   "execution_count": 7,
   "id": "d717a985",
   "metadata": {},
   "outputs": [],
   "source": [
    "# 17\n",
    "# from the dataset, fit a linear model on the relationship between the temperature in the living room in Celsius (x = T2) and the temperature outside the building (y = T6). \n",
    "# What is the Root Mean Squared error in three D.P?\n"
   ]
  },
  {
   "cell_type": "code",
   "execution_count": 8,
   "id": "7930256d",
   "metadata": {},
   "outputs": [],
   "source": [
    "# Prepare the training data\n",
    "x = data[[\"T2\"]]\n",
    "y = data[[\"T6\"]]"
   ]
  },
  {
   "cell_type": "code",
   "execution_count": 9,
   "id": "fe697e56",
   "metadata": {},
   "outputs": [],
   "source": [
    "# Split the data into training and test sets\n",
    "x_train, x_test, y_train, y_test = train_test_split(x, y, test_size = 0.3, random_state = 42)"
   ]
  },
  {
   "cell_type": "code",
   "execution_count": 10,
   "id": "8c93fc4d",
   "metadata": {},
   "outputs": [],
   "source": [
    "# Instantiate the Linear Regressor\n",
    "model = LinearRegression()"
   ]
  },
  {
   "cell_type": "code",
   "execution_count": 11,
   "id": "b9e58c62",
   "metadata": {},
   "outputs": [
    {
     "data": {
      "text/plain": [
       "LinearRegression()"
      ]
     },
     "execution_count": 11,
     "metadata": {},
     "output_type": "execute_result"
    }
   ],
   "source": [
    "# Fit model to the training data\n",
    "model.fit(x_train, y_train)"
   ]
  },
  {
   "cell_type": "code",
   "execution_count": 12,
   "id": "61df7a99",
   "metadata": {},
   "outputs": [],
   "source": [
    "# Model Evaluation\n",
    "y_pred = model.predict(x_test)"
   ]
  },
  {
   "cell_type": "code",
   "execution_count": 13,
   "id": "e5ad8fac",
   "metadata": {},
   "outputs": [
    {
     "data": {
      "text/plain": [
       "13.17918794078674"
      ]
     },
     "execution_count": 13,
     "metadata": {},
     "output_type": "execute_result"
    }
   ],
   "source": [
    "mse = mean_squared_error(y_test, y_pred)\n",
    "mse"
   ]
  },
  {
   "cell_type": "code",
   "execution_count": 14,
   "id": "a8ec7161",
   "metadata": {},
   "outputs": [
    {
     "name": "stdout",
     "output_type": "stream",
     "text": [
      "RMSE: 3.630315129680444\n"
     ]
    }
   ],
   "source": [
    "rmse = np.sqrt(mse)\n",
    "print(f\"RMSE: {rmse}\")"
   ]
  },
  {
   "cell_type": "code",
   "execution_count": 15,
   "id": "680fcbf1",
   "metadata": {},
   "outputs": [],
   "source": [
    "# Q18"
   ]
  },
  {
   "cell_type": "code",
   "execution_count": 16,
   "id": "96ee7537",
   "metadata": {},
   "outputs": [],
   "source": [
    "x2 = data.drop(columns = [\"date\", \"lights\", \"Appliances\"])"
   ]
  },
  {
   "cell_type": "code",
   "execution_count": 17,
   "id": "0470e00c",
   "metadata": {},
   "outputs": [],
   "source": [
    "y2 = data[[\"Appliances\"]]"
   ]
  },
  {
   "cell_type": "code",
   "execution_count": 18,
   "id": "2a9b19c1",
   "metadata": {},
   "outputs": [],
   "source": [
    "# Separate train and test dataset\n",
    "x2_train, x2_test, y2_train, y2_test = train_test_split(x2, y2, test_size=0.3, random_state=42)"
   ]
  },
  {
   "cell_type": "code",
   "execution_count": 19,
   "id": "62b00098",
   "metadata": {},
   "outputs": [],
   "source": [
    "# Normalize the features dataset\n",
    "scaler = StandardScaler()\n",
    "scaler = scaler.fit(x2_train)\n",
    "x2_train_scaled = scaler.transform(x2_train)\n",
    "x2_test_scaled = scaler.transform(x2_test)"
   ]
  },
  {
   "cell_type": "code",
   "execution_count": 20,
   "id": "8a64e0c8",
   "metadata": {},
   "outputs": [
    {
     "data": {
      "text/plain": [
       "LinearRegression()"
      ]
     },
     "execution_count": 20,
     "metadata": {},
     "output_type": "execute_result"
    }
   ],
   "source": [
    "# Train the model with linear regression\n",
    "linear_reg = LinearRegression()\n",
    "linear_reg.fit(x2_train_scaled, y2_train)"
   ]
  },
  {
   "cell_type": "code",
   "execution_count": 21,
   "id": "acdaeaa5",
   "metadata": {},
   "outputs": [],
   "source": [
    "# Model Evaluation\n",
    "y2_pred = linear_reg.predict(x2_test_scaled)"
   ]
  },
  {
   "cell_type": "code",
   "execution_count": 22,
   "id": "a2d24c50",
   "metadata": {},
   "outputs": [
    {
     "data": {
      "text/plain": [
       "53.6429776558496"
      ]
     },
     "execution_count": 22,
     "metadata": {},
     "output_type": "execute_result"
    }
   ],
   "source": [
    "mae = mean_absolute_error(y2_test, y2_pred)\n",
    "mae"
   ]
  },
  {
   "cell_type": "code",
   "execution_count": 23,
   "id": "cbd08773",
   "metadata": {},
   "outputs": [
    {
     "data": {
      "text/plain": [
       "8768.535925051974"
      ]
     },
     "execution_count": 23,
     "metadata": {},
     "output_type": "execute_result"
    }
   ],
   "source": [
    "mse1 = mean_squared_error(y2_test, y2_pred)\n",
    "mse1"
   ]
  },
  {
   "cell_type": "code",
   "execution_count": 24,
   "id": "f8ddb3e5",
   "metadata": {},
   "outputs": [],
   "source": [
    "# Set the hyperparameters\n",
    "params = {'alpha': [0.001, 0.01, 0.1, 1, 10, 100]}"
   ]
  },
  {
   "cell_type": "code",
   "execution_count": 25,
   "id": "7cd1cb9e",
   "metadata": {},
   "outputs": [
    {
     "name": "stdout",
     "output_type": "stream",
     "text": [
      "Best alpha for Ridge: 1\n"
     ]
    }
   ],
   "source": [
    "# Tune the hyperparameters for Ridge regression\n",
    "ridge = Ridge()\n",
    "ridge_cv = GridSearchCV(ridge, params, cv=5)\n",
    "ridge_cv.fit(x2_train_scaled, y2_train)\n",
    "\n",
    "print(f\"Best alpha for Ridge: {ridge_cv.best_params_['alpha']}\")"
   ]
  },
  {
   "cell_type": "code",
   "execution_count": 26,
   "id": "f4760b08",
   "metadata": {},
   "outputs": [],
   "source": [
    "# Train model with the best alpha param\n",
    "ridge_best = Ridge(alpha=ridge_cv.best_params_['alpha']).fit(x2_train_scaled, y2_train)"
   ]
  },
  {
   "cell_type": "code",
   "execution_count": 27,
   "id": "9e454376",
   "metadata": {},
   "outputs": [
    {
     "name": "stdout",
     "output_type": "stream",
     "text": [
      "Best alpha for Lasso: 0.01\n"
     ]
    }
   ],
   "source": [
    "# Tune the hyperparameters for Lasso regression\n",
    "lasso = Lasso()\n",
    "lasso_cv = GridSearchCV(lasso, params, cv=5)\n",
    "lasso_cv.fit(x2_train_scaled, y2_train)\n",
    "print(f\"Best alpha for Lasso: {lasso_cv.best_params_['alpha']}\")"
   ]
  },
  {
   "cell_type": "code",
   "execution_count": 28,
   "id": "2130c005",
   "metadata": {},
   "outputs": [
    {
     "data": {
      "text/plain": [
       "8768.535925051974"
      ]
     },
     "execution_count": 28,
     "metadata": {},
     "output_type": "execute_result"
    }
   ],
   "source": [
    "mse2 = mean_squared_error(y2_test, y2_pred)\n",
    "mse2"
   ]
  },
  {
   "cell_type": "code",
   "execution_count": 29,
   "id": "8de9760e",
   "metadata": {},
   "outputs": [],
   "source": [
    "# Train the model with the best alpha param\n",
    "lasso_best = Lasso(alpha=lasso_cv.best_params_['alpha']).fit(x2_train_scaled, y2_train)"
   ]
  },
  {
   "cell_type": "code",
   "execution_count": 30,
   "id": "d1d26d5c",
   "metadata": {},
   "outputs": [
    {
     "data": {
      "text/plain": [
       "8768.535925051974"
      ]
     },
     "execution_count": 30,
     "metadata": {},
     "output_type": "execute_result"
    }
   ],
   "source": [
    "mse2 = mean_squared_error(y2_test, y2_pred)\n",
    "mse2"
   ]
  },
  {
   "cell_type": "code",
   "execution_count": 31,
   "id": "4d23c051",
   "metadata": {},
   "outputs": [
    {
     "name": "stdout",
     "output_type": "stream",
     "text": [
      "Linear Regression MSE: 8768.535925051974\n",
      "Ridge Regression MSE: 8768.606009478654\n",
      "Lasso Regression MSE: 8768.508131471037\n"
     ]
    }
   ],
   "source": [
    "# Evaluate the trained models\n",
    "linear_reg_mse = mean_squared_error(y2_test, linear_reg.predict(x2_test_scaled))\n",
    "ridge_mse = mean_squared_error(y2_test, ridge_best.predict(x2_test_scaled))\n",
    "lasso_mse = mean_squared_error(y2_test, lasso_best.predict(x2_test_scaled))\n",
    "\n",
    "print(f\"Linear Regression MSE: {linear_reg_mse}\")\n",
    "print(f\"Ridge Regression MSE: {ridge_mse}\")\n",
    "print(f\"Lasso Regression MSE: {lasso_mse}\")"
   ]
  },
  {
   "cell_type": "code",
   "execution_count": null,
   "id": "e4e76b88",
   "metadata": {},
   "outputs": [],
   "source": []
  }
 ],
 "metadata": {
  "kernelspec": {
   "display_name": "Python 3 (ipykernel)",
   "language": "python",
   "name": "python3"
  },
  "language_info": {
   "codemirror_mode": {
    "name": "ipython",
    "version": 3
   },
   "file_extension": ".py",
   "mimetype": "text/x-python",
   "name": "python",
   "nbconvert_exporter": "python",
   "pygments_lexer": "ipython3",
   "version": "3.9.7"
  }
 },
 "nbformat": 4,
 "nbformat_minor": 5
}
